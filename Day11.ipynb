{
 "cells": [
  {
   "cell_type": "code",
   "execution_count": null,
   "metadata": {},
   "outputs": [],
   "source": [
    "import numpy as np\n",
    "import cv2 as cv\n",
    "\n",
    "cap=cv.VideoCapture(0)\n",
    "while True:\n",
    "    # Capture frame-by-frame\n",
    "\tret, img=cap.read()\n",
    "     # Convert BGR to HSV\n",
    "\thsv=cv.cvtColor(img,cv.COLOR_BGR2HSV)\n",
    "\tkernel=np.ones((5,5),np.uint8)\n",
    "    # define range of green color in HSV\n",
    "\tLower_green = np.array([29, 86, 6])\n",
    "\tUpper_green = np.array([64, 255, 255])\n",
    "    # Threshold the HSV image to get only green colors\n",
    "\tmask=cv.inRange(hsv,Lower_green,Upper_green)\n",
    "\t#mask = cv2.erode(mask, kernel, iterations=2)\n",
    "\tmask=cv.morphologyEx(mask,cv.MORPH_OPEN,kernel)\n",
    "\t#mask=cv2.morphologyEx(mask,cv2.MORPH_CLOSE,kernel)\n",
    "\tmask = cv.dilate(mask, kernel, iterations=1)\n",
    "    \n",
    "    # Bitwise-AND mask and original image\n",
    "\tres=cv.bitwise_and(img,img,mask=mask)\n",
    "\tcnts,heir=cv.findContours(mask.copy(),cv.RETR_EXTERNAL,cv.CHAIN_APPROX_SIMPLE)[-2:]\n",
    "\tcenter = None\n",
    " #only proceed if atleast only contour was found\n",
    "\tif len(cnts) > 0:\n",
    "        #find the largest contour in the mask then use\n",
    "        #it to compute the minimum enclosing circle and centeroid\n",
    "\t\tc = max(cnts, key=cv.contourArea)\n",
    "\t\t((x, y), radius) = cv.minEnclosingCircle(c)\n",
    "         # compute the center of the contour\n",
    "\t\tM = cv.moments(c)\n",
    "\t\tcenter = (int(M[\"m10\"] / M[\"m00\"]), int(M[\"m01\"] / M[\"m00\"]))\n",
    " \n",
    "\t\tif radius > 10:\n",
    "\t\t\tcv.circle(img, (int(x), int(y)), int(radius),(0, 255, 255), 2)\n",
    "\t\t\tcv.circle(img, center, 5, (0, 0, 255), -1)\n",
    "\t\t\n",
    "\t\n",
    "\t\n",
    "\tcv.imshow(\"Frame\", img)\n",
    "\tcv.imshow(\"mask\",mask)\n",
    "\tcv.imshow(\"res\",res)\n",
    "\t\n",
    "\tk=cv.waitKey(30) & 0xFF\n",
    "\tif k==32:\n",
    "\t\tbreak\n",
    "# cleanup the camera and close any open windows\n",
    "cap.release()\n",
    "cv.destroyAllWindows()"
   ]
  },
  {
   "cell_type": "code",
   "execution_count": null,
   "metadata": {},
   "outputs": [],
   "source": [
    "#Face Detection\n",
    "import cv2\n",
    "import numpy as np\n",
    "from matplotlib import pyplot as plt\n",
    "\n",
    "img = cv2.imread('ioi2.jpg',cv2.IMREAD_COLOR)\n",
    "face_csc = cv2.CascadeClassifier('haarcascade_frontalface_default.xml')\n",
    "gray = cv2.cvtColor(img, cv2.COLOR_BGR2GRAY )\n",
    "faces = face_csc.detectMultiScale(gray, 1.1 , 4)\n",
    "for (x,y,w,h) in faces:\n",
    "    cv2.rectangle(img, (x,y), (x+w, y+h), (12,150,100),2)# 12=R | 150= G | 100=B, 2=Thickness\n",
    "cv2.imshow('image',img)\n",
    "cv2.waitKey(0) # If you don't put this line,then the image window is just a flash. If you put any number other than 0, the same happens.\n",
    "cv2.destroyAllWindows()"
   ]
  },
  {
   "cell_type": "code",
   "execution_count": null,
   "metadata": {},
   "outputs": [],
   "source": []
  }
 ],
 "metadata": {
  "kernelspec": {
   "display_name": "Python 3",
   "language": "python",
   "name": "python3"
  },
  "language_info": {
   "codemirror_mode": {
    "name": "ipython",
    "version": 3
   },
   "file_extension": ".py",
   "mimetype": "text/x-python",
   "name": "python",
   "nbconvert_exporter": "python",
   "pygments_lexer": "ipython3",
   "version": "3.7.1"
  }
 },
 "nbformat": 4,
 "nbformat_minor": 2
}
